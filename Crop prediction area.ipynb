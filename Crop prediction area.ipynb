{
 "cells": [
  {
   "cell_type": "code",
   "execution_count": 1,
   "id": "193c2f6f",
   "metadata": {},
   "outputs": [],
   "source": [
    "import numpy as np\n",
    "import pandas as pd\n",
    "from sklearn.model_selection import train_test_split\n",
    "from sklearn.preprocessing import StandardScaler, LabelEncoder\n",
    "from sklearn.ensemble import RandomForestClassifier\n",
    "from sklearn.metrics import accuracy_score\n"
   ]
  },
  {
   "cell_type": "code",
   "execution_count": 2,
   "id": "97b40d8a",
   "metadata": {},
   "outputs": [],
   "source": [
    "crop = pd.read_csv('West_Bengal_districtwise_data - Sheet1.csv')"
   ]
  },
  {
   "cell_type": "code",
   "execution_count": 3,
   "id": "4e1e5b3b",
   "metadata": {},
   "outputs": [
    {
     "data": {
      "text/html": [
       "<div>\n",
       "<style scoped>\n",
       "    .dataframe tbody tr th:only-of-type {\n",
       "        vertical-align: middle;\n",
       "    }\n",
       "\n",
       "    .dataframe tbody tr th {\n",
       "        vertical-align: top;\n",
       "    }\n",
       "\n",
       "    .dataframe thead th {\n",
       "        text-align: right;\n",
       "    }\n",
       "</style>\n",
       "<table border=\"1\" class=\"dataframe\">\n",
       "  <thead>\n",
       "    <tr style=\"text-align: right;\">\n",
       "      <th></th>\n",
       "      <th>District</th>\n",
       "      <th>Soil_Type</th>\n",
       "      <th>N</th>\n",
       "      <th>P</th>\n",
       "      <th>K</th>\n",
       "      <th>pH</th>\n",
       "      <th>Rainfall</th>\n",
       "      <th>Humidity</th>\n",
       "      <th>Temperature</th>\n",
       "    </tr>\n",
       "  </thead>\n",
       "  <tbody>\n",
       "    <tr>\n",
       "      <th>0</th>\n",
       "      <td>Hooghly</td>\n",
       "      <td>Alluvial</td>\n",
       "      <td>150</td>\n",
       "      <td>90</td>\n",
       "      <td>120</td>\n",
       "      <td>7.2</td>\n",
       "      <td>1725</td>\n",
       "      <td>75</td>\n",
       "      <td>28</td>\n",
       "    </tr>\n",
       "    <tr>\n",
       "      <th>1</th>\n",
       "      <td>Hooghly</td>\n",
       "      <td>Alluvial</td>\n",
       "      <td>189</td>\n",
       "      <td>78</td>\n",
       "      <td>195</td>\n",
       "      <td>6.7</td>\n",
       "      <td>1786</td>\n",
       "      <td>73</td>\n",
       "      <td>21</td>\n",
       "    </tr>\n",
       "    <tr>\n",
       "      <th>2</th>\n",
       "      <td>Hooghly</td>\n",
       "      <td>Alluvial</td>\n",
       "      <td>110</td>\n",
       "      <td>56</td>\n",
       "      <td>115</td>\n",
       "      <td>7.4</td>\n",
       "      <td>1603</td>\n",
       "      <td>77</td>\n",
       "      <td>27</td>\n",
       "    </tr>\n",
       "    <tr>\n",
       "      <th>3</th>\n",
       "      <td>Hooghly</td>\n",
       "      <td>Alluvial</td>\n",
       "      <td>177</td>\n",
       "      <td>62</td>\n",
       "      <td>187</td>\n",
       "      <td>6.6</td>\n",
       "      <td>1832</td>\n",
       "      <td>76</td>\n",
       "      <td>24</td>\n",
       "    </tr>\n",
       "    <tr>\n",
       "      <th>4</th>\n",
       "      <td>Hooghly</td>\n",
       "      <td>Alluvial</td>\n",
       "      <td>136</td>\n",
       "      <td>80</td>\n",
       "      <td>159</td>\n",
       "      <td>6.9</td>\n",
       "      <td>1920</td>\n",
       "      <td>71</td>\n",
       "      <td>20</td>\n",
       "    </tr>\n",
       "  </tbody>\n",
       "</table>\n",
       "</div>"
      ],
      "text/plain": [
       "  District Soil_Type   N   P    K    pH  Rainfall   Humidity  Temperature \n",
       "0  Hooghly  Alluvial  150  90  120  7.2       1725        75            28\n",
       "1  Hooghly  Alluvial  189  78  195  6.7       1786        73            21\n",
       "2  Hooghly  Alluvial  110  56  115  7.4       1603        77            27\n",
       "3  Hooghly  Alluvial  177  62  187  6.6       1832        76            24\n",
       "4  Hooghly  Alluvial  136  80  159  6.9       1920        71            20"
      ]
     },
     "execution_count": 3,
     "metadata": {},
     "output_type": "execute_result"
    }
   ],
   "source": [
    "crop.head()"
   ]
  },
  {
   "cell_type": "code",
   "execution_count": 4,
   "id": "2a3286fe",
   "metadata": {},
   "outputs": [
    {
     "data": {
      "text/plain": [
       "(1891, 9)"
      ]
     },
     "execution_count": 4,
     "metadata": {},
     "output_type": "execute_result"
    }
   ],
   "source": [
    "crop.shape"
   ]
  },
  {
   "cell_type": "code",
   "execution_count": 5,
   "id": "e7200468",
   "metadata": {},
   "outputs": [
    {
     "data": {
      "text/plain": [
       "<bound method DataFrame.info of         District          Soil_Type   N   P    K    pH  Rainfall   Humidity  \\\n",
       "0        Hooghly           Alluvial  150  90  120  7.2       1725        75   \n",
       "1        Hooghly           Alluvial  189  78  195  6.7       1786        73   \n",
       "2        Hooghly           Alluvial  110  56  115  7.4       1603        77   \n",
       "3        Hooghly           Alluvial  177  62  187  6.6       1832        76   \n",
       "4        Hooghly           Alluvial  136  80  159  6.9       1920        71   \n",
       "...          ...                ...  ...  ..  ...  ...        ...       ...   \n",
       "1886  Darjeeling  Hill & Red/Yellow   80  25   80  5.1       2060        88   \n",
       "1887  Darjeeling  Hill & Red/Yellow   85  28   85  5.2       2110        90   \n",
       "1888  Darjeeling  Hill & Red/Yellow   90  31   90  5.3       2160        92   \n",
       "1889  Darjeeling  Hill & Red/Yellow   95  34   95  5.4       2210        94   \n",
       "1890  Darjeeling  Hill & Red/Yellow  100  37  100  5.5       2260        96   \n",
       "\n",
       "      Temperature   \n",
       "0               28  \n",
       "1               21  \n",
       "2               27  \n",
       "3               24  \n",
       "4               20  \n",
       "...            ...  \n",
       "1886            16  \n",
       "1887            17  \n",
       "1888            18  \n",
       "1889            19  \n",
       "1890            20  \n",
       "\n",
       "[1891 rows x 9 columns]>"
      ]
     },
     "execution_count": 5,
     "metadata": {},
     "output_type": "execute_result"
    }
   ],
   "source": [
    "crop.info"
   ]
  },
  {
   "cell_type": "code",
   "execution_count": 6,
   "id": "0edbd33a",
   "metadata": {},
   "outputs": [
    {
     "data": {
      "text/html": [
       "<div>\n",
       "<style scoped>\n",
       "    .dataframe tbody tr th:only-of-type {\n",
       "        vertical-align: middle;\n",
       "    }\n",
       "\n",
       "    .dataframe tbody tr th {\n",
       "        vertical-align: top;\n",
       "    }\n",
       "\n",
       "    .dataframe thead th {\n",
       "        text-align: right;\n",
       "    }\n",
       "</style>\n",
       "<table border=\"1\" class=\"dataframe\">\n",
       "  <thead>\n",
       "    <tr style=\"text-align: right;\">\n",
       "      <th></th>\n",
       "      <th>District</th>\n",
       "      <th>Soil_Type</th>\n",
       "      <th>N</th>\n",
       "      <th>P</th>\n",
       "      <th>K</th>\n",
       "      <th>pH</th>\n",
       "      <th>Rainfall</th>\n",
       "      <th>Humidity</th>\n",
       "      <th>Temperature</th>\n",
       "    </tr>\n",
       "  </thead>\n",
       "  <tbody>\n",
       "    <tr>\n",
       "      <th>0</th>\n",
       "      <td>False</td>\n",
       "      <td>False</td>\n",
       "      <td>False</td>\n",
       "      <td>False</td>\n",
       "      <td>False</td>\n",
       "      <td>False</td>\n",
       "      <td>False</td>\n",
       "      <td>False</td>\n",
       "      <td>False</td>\n",
       "    </tr>\n",
       "    <tr>\n",
       "      <th>1</th>\n",
       "      <td>False</td>\n",
       "      <td>False</td>\n",
       "      <td>False</td>\n",
       "      <td>False</td>\n",
       "      <td>False</td>\n",
       "      <td>False</td>\n",
       "      <td>False</td>\n",
       "      <td>False</td>\n",
       "      <td>False</td>\n",
       "    </tr>\n",
       "    <tr>\n",
       "      <th>2</th>\n",
       "      <td>False</td>\n",
       "      <td>False</td>\n",
       "      <td>False</td>\n",
       "      <td>False</td>\n",
       "      <td>False</td>\n",
       "      <td>False</td>\n",
       "      <td>False</td>\n",
       "      <td>False</td>\n",
       "      <td>False</td>\n",
       "    </tr>\n",
       "    <tr>\n",
       "      <th>3</th>\n",
       "      <td>False</td>\n",
       "      <td>False</td>\n",
       "      <td>False</td>\n",
       "      <td>False</td>\n",
       "      <td>False</td>\n",
       "      <td>False</td>\n",
       "      <td>False</td>\n",
       "      <td>False</td>\n",
       "      <td>False</td>\n",
       "    </tr>\n",
       "    <tr>\n",
       "      <th>4</th>\n",
       "      <td>False</td>\n",
       "      <td>False</td>\n",
       "      <td>False</td>\n",
       "      <td>False</td>\n",
       "      <td>False</td>\n",
       "      <td>False</td>\n",
       "      <td>False</td>\n",
       "      <td>False</td>\n",
       "      <td>False</td>\n",
       "    </tr>\n",
       "    <tr>\n",
       "      <th>...</th>\n",
       "      <td>...</td>\n",
       "      <td>...</td>\n",
       "      <td>...</td>\n",
       "      <td>...</td>\n",
       "      <td>...</td>\n",
       "      <td>...</td>\n",
       "      <td>...</td>\n",
       "      <td>...</td>\n",
       "      <td>...</td>\n",
       "    </tr>\n",
       "    <tr>\n",
       "      <th>1886</th>\n",
       "      <td>False</td>\n",
       "      <td>False</td>\n",
       "      <td>False</td>\n",
       "      <td>False</td>\n",
       "      <td>False</td>\n",
       "      <td>False</td>\n",
       "      <td>False</td>\n",
       "      <td>False</td>\n",
       "      <td>False</td>\n",
       "    </tr>\n",
       "    <tr>\n",
       "      <th>1887</th>\n",
       "      <td>False</td>\n",
       "      <td>False</td>\n",
       "      <td>False</td>\n",
       "      <td>False</td>\n",
       "      <td>False</td>\n",
       "      <td>False</td>\n",
       "      <td>False</td>\n",
       "      <td>False</td>\n",
       "      <td>False</td>\n",
       "    </tr>\n",
       "    <tr>\n",
       "      <th>1888</th>\n",
       "      <td>False</td>\n",
       "      <td>False</td>\n",
       "      <td>False</td>\n",
       "      <td>False</td>\n",
       "      <td>False</td>\n",
       "      <td>False</td>\n",
       "      <td>False</td>\n",
       "      <td>False</td>\n",
       "      <td>False</td>\n",
       "    </tr>\n",
       "    <tr>\n",
       "      <th>1889</th>\n",
       "      <td>False</td>\n",
       "      <td>False</td>\n",
       "      <td>False</td>\n",
       "      <td>False</td>\n",
       "      <td>False</td>\n",
       "      <td>False</td>\n",
       "      <td>False</td>\n",
       "      <td>False</td>\n",
       "      <td>False</td>\n",
       "    </tr>\n",
       "    <tr>\n",
       "      <th>1890</th>\n",
       "      <td>False</td>\n",
       "      <td>False</td>\n",
       "      <td>False</td>\n",
       "      <td>False</td>\n",
       "      <td>False</td>\n",
       "      <td>False</td>\n",
       "      <td>False</td>\n",
       "      <td>False</td>\n",
       "      <td>False</td>\n",
       "    </tr>\n",
       "  </tbody>\n",
       "</table>\n",
       "<p>1891 rows × 9 columns</p>\n",
       "</div>"
      ],
      "text/plain": [
       "      District  Soil_Type     N      P      K      pH  Rainfall   Humidity  \\\n",
       "0        False      False  False  False  False  False      False     False   \n",
       "1        False      False  False  False  False  False      False     False   \n",
       "2        False      False  False  False  False  False      False     False   \n",
       "3        False      False  False  False  False  False      False     False   \n",
       "4        False      False  False  False  False  False      False     False   \n",
       "...        ...        ...    ...    ...    ...    ...        ...       ...   \n",
       "1886     False      False  False  False  False  False      False     False   \n",
       "1887     False      False  False  False  False  False      False     False   \n",
       "1888     False      False  False  False  False  False      False     False   \n",
       "1889     False      False  False  False  False  False      False     False   \n",
       "1890     False      False  False  False  False  False      False     False   \n",
       "\n",
       "      Temperature   \n",
       "0            False  \n",
       "1            False  \n",
       "2            False  \n",
       "3            False  \n",
       "4            False  \n",
       "...            ...  \n",
       "1886         False  \n",
       "1887         False  \n",
       "1888         False  \n",
       "1889         False  \n",
       "1890         False  \n",
       "\n",
       "[1891 rows x 9 columns]"
      ]
     },
     "execution_count": 6,
     "metadata": {},
     "output_type": "execute_result"
    }
   ],
   "source": [
    "crop.isnull()"
   ]
  },
  {
   "cell_type": "code",
   "execution_count": 7,
   "id": "cd6ae3b0",
   "metadata": {},
   "outputs": [
    {
     "data": {
      "text/plain": [
       "463"
      ]
     },
     "execution_count": 7,
     "metadata": {},
     "output_type": "execute_result"
    }
   ],
   "source": [
    "crop.duplicated().sum()"
   ]
  },
  {
   "cell_type": "raw",
   "id": "dea772f9",
   "metadata": {},
   "source": []
  },
  {
   "cell_type": "code",
   "execution_count": 8,
   "id": "6ed60556",
   "metadata": {},
   "outputs": [],
   "source": [
    "crop=crop.drop_duplicates()"
   ]
  },
  {
   "cell_type": "code",
   "execution_count": 9,
   "id": "da7f6df7",
   "metadata": {},
   "outputs": [
    {
     "data": {
      "text/plain": [
       "0"
      ]
     },
     "execution_count": 9,
     "metadata": {},
     "output_type": "execute_result"
    }
   ],
   "source": [
    "crop.duplicated().sum()"
   ]
  },
  {
   "cell_type": "code",
   "execution_count": 10,
   "id": "254459e4",
   "metadata": {},
   "outputs": [
    {
     "data": {
      "text/html": [
       "<div>\n",
       "<style scoped>\n",
       "    .dataframe tbody tr th:only-of-type {\n",
       "        vertical-align: middle;\n",
       "    }\n",
       "\n",
       "    .dataframe tbody tr th {\n",
       "        vertical-align: top;\n",
       "    }\n",
       "\n",
       "    .dataframe thead th {\n",
       "        text-align: right;\n",
       "    }\n",
       "</style>\n",
       "<table border=\"1\" class=\"dataframe\">\n",
       "  <thead>\n",
       "    <tr style=\"text-align: right;\">\n",
       "      <th></th>\n",
       "      <th>District</th>\n",
       "      <th>Soil_Type</th>\n",
       "      <th>N</th>\n",
       "      <th>P</th>\n",
       "      <th>K</th>\n",
       "      <th>pH</th>\n",
       "      <th>Rainfall</th>\n",
       "      <th>Humidity</th>\n",
       "      <th>Temperature</th>\n",
       "    </tr>\n",
       "  </thead>\n",
       "  <tbody>\n",
       "    <tr>\n",
       "      <th>0</th>\n",
       "      <td>Hooghly</td>\n",
       "      <td>Alluvial</td>\n",
       "      <td>150</td>\n",
       "      <td>90</td>\n",
       "      <td>120</td>\n",
       "      <td>7.2</td>\n",
       "      <td>1725</td>\n",
       "      <td>75</td>\n",
       "      <td>28</td>\n",
       "    </tr>\n",
       "    <tr>\n",
       "      <th>1</th>\n",
       "      <td>Hooghly</td>\n",
       "      <td>Alluvial</td>\n",
       "      <td>189</td>\n",
       "      <td>78</td>\n",
       "      <td>195</td>\n",
       "      <td>6.7</td>\n",
       "      <td>1786</td>\n",
       "      <td>73</td>\n",
       "      <td>21</td>\n",
       "    </tr>\n",
       "    <tr>\n",
       "      <th>2</th>\n",
       "      <td>Hooghly</td>\n",
       "      <td>Alluvial</td>\n",
       "      <td>110</td>\n",
       "      <td>56</td>\n",
       "      <td>115</td>\n",
       "      <td>7.4</td>\n",
       "      <td>1603</td>\n",
       "      <td>77</td>\n",
       "      <td>27</td>\n",
       "    </tr>\n",
       "    <tr>\n",
       "      <th>3</th>\n",
       "      <td>Hooghly</td>\n",
       "      <td>Alluvial</td>\n",
       "      <td>177</td>\n",
       "      <td>62</td>\n",
       "      <td>187</td>\n",
       "      <td>6.6</td>\n",
       "      <td>1832</td>\n",
       "      <td>76</td>\n",
       "      <td>24</td>\n",
       "    </tr>\n",
       "    <tr>\n",
       "      <th>4</th>\n",
       "      <td>Hooghly</td>\n",
       "      <td>Alluvial</td>\n",
       "      <td>136</td>\n",
       "      <td>80</td>\n",
       "      <td>159</td>\n",
       "      <td>6.9</td>\n",
       "      <td>1920</td>\n",
       "      <td>71</td>\n",
       "      <td>20</td>\n",
       "    </tr>\n",
       "  </tbody>\n",
       "</table>\n",
       "</div>"
      ],
      "text/plain": [
       "  District Soil_Type   N   P    K    pH  Rainfall   Humidity  Temperature \n",
       "0  Hooghly  Alluvial  150  90  120  7.2       1725        75            28\n",
       "1  Hooghly  Alluvial  189  78  195  6.7       1786        73            21\n",
       "2  Hooghly  Alluvial  110  56  115  7.4       1603        77            27\n",
       "3  Hooghly  Alluvial  177  62  187  6.6       1832        76            24\n",
       "4  Hooghly  Alluvial  136  80  159  6.9       1920        71            20"
      ]
     },
     "execution_count": 10,
     "metadata": {},
     "output_type": "execute_result"
    }
   ],
   "source": [
    "crop.head()"
   ]
  },
  {
   "cell_type": "code",
   "execution_count": 11,
   "id": "062ac098",
   "metadata": {},
   "outputs": [
    {
     "data": {
      "text/plain": [
       "(1428, 9)"
      ]
     },
     "execution_count": 11,
     "metadata": {},
     "output_type": "execute_result"
    }
   ],
   "source": [
    "crop.shape"
   ]
  },
  {
   "cell_type": "code",
   "execution_count": 12,
   "id": "ddb9674e",
   "metadata": {},
   "outputs": [
    {
     "data": {
      "text/plain": [
       "<bound method DataFrame.info of         District          Soil_Type   N   P    K    pH  Rainfall   Humidity  \\\n",
       "0        Hooghly           Alluvial  150  90  120  7.2       1725        75   \n",
       "1        Hooghly           Alluvial  189  78  195  6.7       1786        73   \n",
       "2        Hooghly           Alluvial  110  56  115  7.4       1603        77   \n",
       "3        Hooghly           Alluvial  177  62  187  6.6       1832        76   \n",
       "4        Hooghly           Alluvial  136  80  159  6.9       1920        71   \n",
       "...          ...                ...  ...  ..  ...  ...        ...       ...   \n",
       "1886  Darjeeling  Hill & Red/Yellow   80  25   80  5.1       2060        88   \n",
       "1887  Darjeeling  Hill & Red/Yellow   85  28   85  5.2       2110        90   \n",
       "1888  Darjeeling  Hill & Red/Yellow   90  31   90  5.3       2160        92   \n",
       "1889  Darjeeling  Hill & Red/Yellow   95  34   95  5.4       2210        94   \n",
       "1890  Darjeeling  Hill & Red/Yellow  100  37  100  5.5       2260        96   \n",
       "\n",
       "      Temperature   \n",
       "0               28  \n",
       "1               21  \n",
       "2               27  \n",
       "3               24  \n",
       "4               20  \n",
       "...            ...  \n",
       "1886            16  \n",
       "1887            17  \n",
       "1888            18  \n",
       "1889            19  \n",
       "1890            20  \n",
       "\n",
       "[1428 rows x 9 columns]>"
      ]
     },
     "execution_count": 12,
     "metadata": {},
     "output_type": "execute_result"
    }
   ],
   "source": [
    "crop.info"
   ]
  },
  {
   "cell_type": "code",
   "execution_count": 13,
   "id": "ef843185",
   "metadata": {},
   "outputs": [
    {
     "data": {
      "text/html": [
       "<div>\n",
       "<style scoped>\n",
       "    .dataframe tbody tr th:only-of-type {\n",
       "        vertical-align: middle;\n",
       "    }\n",
       "\n",
       "    .dataframe tbody tr th {\n",
       "        vertical-align: top;\n",
       "    }\n",
       "\n",
       "    .dataframe thead th {\n",
       "        text-align: right;\n",
       "    }\n",
       "</style>\n",
       "<table border=\"1\" class=\"dataframe\">\n",
       "  <thead>\n",
       "    <tr style=\"text-align: right;\">\n",
       "      <th></th>\n",
       "      <th>N</th>\n",
       "      <th>P</th>\n",
       "      <th>K</th>\n",
       "      <th>pH</th>\n",
       "      <th>Rainfall</th>\n",
       "      <th>Humidity</th>\n",
       "      <th>Temperature</th>\n",
       "    </tr>\n",
       "  </thead>\n",
       "  <tbody>\n",
       "    <tr>\n",
       "      <th>N</th>\n",
       "      <td>1.000000</td>\n",
       "      <td>0.389839</td>\n",
       "      <td>0.451931</td>\n",
       "      <td>0.497268</td>\n",
       "      <td>-0.096312</td>\n",
       "      <td>-0.072598</td>\n",
       "      <td>0.359263</td>\n",
       "    </tr>\n",
       "    <tr>\n",
       "      <th>P</th>\n",
       "      <td>0.389839</td>\n",
       "      <td>1.000000</td>\n",
       "      <td>0.130069</td>\n",
       "      <td>0.211971</td>\n",
       "      <td>0.207749</td>\n",
       "      <td>0.175957</td>\n",
       "      <td>0.135951</td>\n",
       "    </tr>\n",
       "    <tr>\n",
       "      <th>K</th>\n",
       "      <td>0.451931</td>\n",
       "      <td>0.130069</td>\n",
       "      <td>1.000000</td>\n",
       "      <td>0.382776</td>\n",
       "      <td>-0.045040</td>\n",
       "      <td>-0.117513</td>\n",
       "      <td>0.370401</td>\n",
       "    </tr>\n",
       "    <tr>\n",
       "      <th>pH</th>\n",
       "      <td>0.497268</td>\n",
       "      <td>0.211971</td>\n",
       "      <td>0.382776</td>\n",
       "      <td>1.000000</td>\n",
       "      <td>-0.405815</td>\n",
       "      <td>-0.374583</td>\n",
       "      <td>0.429650</td>\n",
       "    </tr>\n",
       "    <tr>\n",
       "      <th>Rainfall</th>\n",
       "      <td>-0.096312</td>\n",
       "      <td>0.207749</td>\n",
       "      <td>-0.045040</td>\n",
       "      <td>-0.405815</td>\n",
       "      <td>1.000000</td>\n",
       "      <td>0.595155</td>\n",
       "      <td>-0.270513</td>\n",
       "    </tr>\n",
       "    <tr>\n",
       "      <th>Humidity</th>\n",
       "      <td>-0.072598</td>\n",
       "      <td>0.175957</td>\n",
       "      <td>-0.117513</td>\n",
       "      <td>-0.374583</td>\n",
       "      <td>0.595155</td>\n",
       "      <td>1.000000</td>\n",
       "      <td>-0.236821</td>\n",
       "    </tr>\n",
       "    <tr>\n",
       "      <th>Temperature</th>\n",
       "      <td>0.359263</td>\n",
       "      <td>0.135951</td>\n",
       "      <td>0.370401</td>\n",
       "      <td>0.429650</td>\n",
       "      <td>-0.270513</td>\n",
       "      <td>-0.236821</td>\n",
       "      <td>1.000000</td>\n",
       "    </tr>\n",
       "  </tbody>\n",
       "</table>\n",
       "</div>"
      ],
      "text/plain": [
       "                    N         P         K         pH  Rainfall   Humidity  \\\n",
       "N             1.000000  0.389839  0.451931  0.497268  -0.096312 -0.072598   \n",
       "P             0.389839  1.000000  0.130069  0.211971   0.207749  0.175957   \n",
       "K             0.451931  0.130069  1.000000  0.382776  -0.045040 -0.117513   \n",
       "pH            0.497268  0.211971  0.382776  1.000000  -0.405815 -0.374583   \n",
       "Rainfall     -0.096312  0.207749 -0.045040 -0.405815   1.000000  0.595155   \n",
       "Humidity     -0.072598  0.175957 -0.117513 -0.374583   0.595155  1.000000   \n",
       "Temperature   0.359263  0.135951  0.370401  0.429650  -0.270513 -0.236821   \n",
       "\n",
       "              Temperature   \n",
       "N                 0.359263  \n",
       "P                 0.135951  \n",
       "K                 0.370401  \n",
       "pH                0.429650  \n",
       "Rainfall         -0.270513  \n",
       "Humidity         -0.236821  \n",
       "Temperature       1.000000  "
      ]
     },
     "execution_count": 13,
     "metadata": {},
     "output_type": "execute_result"
    }
   ],
   "source": [
    "corr=crop.corr()\n",
    "corr"
   ]
  },
  {
   "cell_type": "code",
   "execution_count": 14,
   "id": "11977e5f",
   "metadata": {},
   "outputs": [
    {
     "data": {
      "text/plain": [
       "<AxesSubplot:>"
      ]
     },
     "execution_count": 14,
     "metadata": {},
     "output_type": "execute_result"
    },
    {
     "data": {
      "image/png": "[encoded data removed]",
      "text/plain": [
       "<Figure size 432x288 with 2 Axes>"
      ]
     },
     "metadata": {
      "needs_background": "light"
     },
     "output_type": "display_data"
    }
   ],
   "source": [
    "import seaborn as sns\n",
    "sns.heatmap(corr,annot=True,cbar=True,cmap='coolwarm')"
   ]
  },
  {
   "cell_type": "code",
   "execution_count": 15,
   "id": "4032b18c",
   "metadata": {},
   "outputs": [
    {
     "data": {
      "text/plain": [
       "Howrah                             160\n",
       "South 24 Parganas                   99\n",
       "Jalpaiguri                          94\n",
       "Murshidabad                         90\n",
       "Alipurduar                          88\n",
       "Purba Bardhaman                     86\n",
       "Nadia                               78\n",
       "North 24 Parganas                   73\n",
       "Paschim Bardhaman                   66\n",
       "Cooch Behar                         63\n",
       "Uttar Dinajpur (North Dinajpur)     61\n",
       "Hooghly                             58\n",
       "Darjeeling                          56\n",
       "Purba Medinipur                     54\n",
       "Birbhum                             54\n",
       "Malda                               52\n",
       "Paschim Medinipur                   48\n",
       "Dakshin Dinajpur                    43\n",
       "Jhargram                            28\n",
       "Kolkata                             27\n",
       "Kalimpong                           27\n",
       "Purulia                             12\n",
       "Bankura                             11\n",
       "Name: District, dtype: int64"
      ]
     },
     "execution_count": 15,
     "metadata": {},
     "output_type": "execute_result"
    }
   ],
   "source": [
    "crop['District'].value_counts()"
   ]
  },
  {
   "cell_type": "code",
   "execution_count": 16,
   "id": "6b7a7893",
   "metadata": {},
   "outputs": [
    {
     "name": "stderr",
     "output_type": "stream",
     "text": [
      "c:\\python39\\lib\\site-packages\\seaborn\\distributions.py:2619: FutureWarning: `distplot` is a deprecated function and will be removed in a future version. Please adapt your code to use either `displot` (a figure-level function with similar flexibility) or `histplot` (an axes-level function for histograms).\n",
      "  warnings.warn(msg, FutureWarning)\n"
     ]
    },
    {
     "data": {
      "text/plain": [
       "<AxesSubplot:xlabel='pH', ylabel='Density'>"
      ]
     },
     "execution_count": 16,
     "metadata": {},
     "output_type": "execute_result"
    },
    {
     "data": {
      "image/png": "[encoded data removed]",
      "text/plain": [
       "<Figure size 432x288 with 1 Axes>"
      ]
     },
     "metadata": {
      "needs_background": "light"
     },
     "output_type": "display_data"
    }
   ],
   "source": [
    "import matplotlib.pyplot as plt\n",
    "sns.distplot(crop['pH'])"
   ]
  },
  {
   "cell_type": "code",
   "execution_count": 17,
   "id": "162af678",
   "metadata": {},
   "outputs": [],
   "source": [
    "##Encoding\n",
    "label_encoder_soil = LabelEncoder()\n",
    "label_encoder_district = LabelEncoder()"
   ]
  },
  {
   "cell_type": "code",
   "execution_count": 18,
   "id": "2bc11bd2",
   "metadata": {},
   "outputs": [],
   "source": [
    "# Assuming 'crop' is your DataFrame\n",
    "# Ensure 'crop' is not a slice of another DataFrame, or explicitly create a copy if it is:\n",
    "crop = crop.copy()\n",
    "# Encoding 'soil_type'\n",
    "crop.loc[:, 'soil_type_encoded'] = label_encoder_soil.fit_transform(crop['Soil_Type'])\n",
    "# Encoding 'district'\n",
    "crop.loc[:, 'district_encoded'] = label_encoder_district.fit_transform(crop['District'])\n"
   ]
  },
  {
   "cell_type": "code",
   "execution_count": 19,
   "id": "c6637d5b",
   "metadata": {},
   "outputs": [
    {
     "data": {
      "text/html": [
       "<div>\n",
       "<style scoped>\n",
       "    .dataframe tbody tr th:only-of-type {\n",
       "        vertical-align: middle;\n",
       "    }\n",
       "\n",
       "    .dataframe tbody tr th {\n",
       "        vertical-align: top;\n",
       "    }\n",
       "\n",
       "    .dataframe thead th {\n",
       "        text-align: right;\n",
       "    }\n",
       "</style>\n",
       "<table border=\"1\" class=\"dataframe\">\n",
       "  <thead>\n",
       "    <tr style=\"text-align: right;\">\n",
       "      <th></th>\n",
       "      <th>District</th>\n",
       "      <th>Soil_Type</th>\n",
       "      <th>N</th>\n",
       "      <th>P</th>\n",
       "      <th>K</th>\n",
       "      <th>pH</th>\n",
       "      <th>Rainfall</th>\n",
       "      <th>Humidity</th>\n",
       "      <th>Temperature</th>\n",
       "      <th>soil_type_encoded</th>\n",
       "      <th>district_encoded</th>\n",
       "    </tr>\n",
       "  </thead>\n",
       "  <tbody>\n",
       "    <tr>\n",
       "      <th>0</th>\n",
       "      <td>Hooghly</td>\n",
       "      <td>Alluvial</td>\n",
       "      <td>150</td>\n",
       "      <td>90</td>\n",
       "      <td>120</td>\n",
       "      <td>7.2</td>\n",
       "      <td>1725</td>\n",
       "      <td>75</td>\n",
       "      <td>28</td>\n",
       "      <td>0</td>\n",
       "      <td>6</td>\n",
       "    </tr>\n",
       "    <tr>\n",
       "      <th>1</th>\n",
       "      <td>Hooghly</td>\n",
       "      <td>Alluvial</td>\n",
       "      <td>189</td>\n",
       "      <td>78</td>\n",
       "      <td>195</td>\n",
       "      <td>6.7</td>\n",
       "      <td>1786</td>\n",
       "      <td>73</td>\n",
       "      <td>21</td>\n",
       "      <td>0</td>\n",
       "      <td>6</td>\n",
       "    </tr>\n",
       "    <tr>\n",
       "      <th>2</th>\n",
       "      <td>Hooghly</td>\n",
       "      <td>Alluvial</td>\n",
       "      <td>110</td>\n",
       "      <td>56</td>\n",
       "      <td>115</td>\n",
       "      <td>7.4</td>\n",
       "      <td>1603</td>\n",
       "      <td>77</td>\n",
       "      <td>27</td>\n",
       "      <td>0</td>\n",
       "      <td>6</td>\n",
       "    </tr>\n",
       "    <tr>\n",
       "      <th>3</th>\n",
       "      <td>Hooghly</td>\n",
       "      <td>Alluvial</td>\n",
       "      <td>177</td>\n",
       "      <td>62</td>\n",
       "      <td>187</td>\n",
       "      <td>6.6</td>\n",
       "      <td>1832</td>\n",
       "      <td>76</td>\n",
       "      <td>24</td>\n",
       "      <td>0</td>\n",
       "      <td>6</td>\n",
       "    </tr>\n",
       "    <tr>\n",
       "      <th>4</th>\n",
       "      <td>Hooghly</td>\n",
       "      <td>Alluvial</td>\n",
       "      <td>136</td>\n",
       "      <td>80</td>\n",
       "      <td>159</td>\n",
       "      <td>6.9</td>\n",
       "      <td>1920</td>\n",
       "      <td>71</td>\n",
       "      <td>20</td>\n",
       "      <td>0</td>\n",
       "      <td>6</td>\n",
       "    </tr>\n",
       "  </tbody>\n",
       "</table>\n",
       "</div>"
      ],
      "text/plain": [
       "  District Soil_Type   N   P    K    pH  Rainfall   Humidity  Temperature   \\\n",
       "0  Hooghly  Alluvial  150  90  120  7.2       1725        75            28   \n",
       "1  Hooghly  Alluvial  189  78  195  6.7       1786        73            21   \n",
       "2  Hooghly  Alluvial  110  56  115  7.4       1603        77            27   \n",
       "3  Hooghly  Alluvial  177  62  187  6.6       1832        76            24   \n",
       "4  Hooghly  Alluvial  136  80  159  6.9       1920        71            20   \n",
       "\n",
       "   soil_type_encoded  district_encoded  \n",
       "0                  0                 6  \n",
       "1                  0                 6  \n",
       "2                  0                 6  \n",
       "3                  0                 6  \n",
       "4                  0                 6  "
      ]
     },
     "execution_count": 19,
     "metadata": {},
     "output_type": "execute_result"
    }
   ],
   "source": [
    "crop.head()"
   ]
  },
  {
   "cell_type": "code",
   "execution_count": 20,
   "id": "36acea2a",
   "metadata": {},
   "outputs": [],
   "source": [
    "#train and test"
   ]
  },
  {
   "cell_type": "code",
   "execution_count": 21,
   "id": "4ba940d1",
   "metadata": {},
   "outputs": [
    {
     "data": {
      "text/plain": [
       "Index(['District', 'Soil_Type', 'N ', 'P ', 'K ', 'pH', 'Rainfall ',\n",
       "       'Humidity', 'Temperature ', 'soil_type_encoded', 'district_encoded'],\n",
       "      dtype='object')"
      ]
     },
     "execution_count": 21,
     "metadata": {},
     "output_type": "execute_result"
    }
   ],
   "source": [
    "\n",
    "crop.columns"
   ]
  },
  {
   "cell_type": "code",
   "execution_count": 22,
   "id": "c46c8a1e",
   "metadata": {},
   "outputs": [],
   "source": [
    "# Adjusting the column references to match the DataFrame exactly, including trailing spaces\n",
    "X = crop[['soil_type_encoded', 'N ', 'P ', 'K ', 'pH', 'Humidity', 'Temperature ', 'Rainfall ']]\n",
    "y = crop['district_encoded']\n"
   ]
  },
  {
   "cell_type": "code",
   "execution_count": 23,
   "id": "d010603b",
   "metadata": {},
   "outputs": [],
   "source": [
    "# Splitting the dataset into training and testing sets\n",
    "X_train, X_test, y_train, y_test = train_test_split(X, y, test_size=0.2, random_state=42)"
   ]
  },
  {
   "cell_type": "code",
   "execution_count": 24,
   "id": "55ffcbdd",
   "metadata": {},
   "outputs": [],
   "source": [
    "# Scaling features\n",
    "scaler = StandardScaler()\n",
    "X_train_scaled = scaler.fit_transform(X_train)\n",
    "X_test_scaled = scaler.transform(X_test)"
   ]
  },
  {
   "cell_type": "code",
   "execution_count": 25,
   "id": "a162725d",
   "metadata": {},
   "outputs": [
    {
     "data": {
      "text/html": [
       "<div>\n",
       "<style scoped>\n",
       "    .dataframe tbody tr th:only-of-type {\n",
       "        vertical-align: middle;\n",
       "    }\n",
       "\n",
       "    .dataframe tbody tr th {\n",
       "        vertical-align: top;\n",
       "    }\n",
       "\n",
       "    .dataframe thead th {\n",
       "        text-align: right;\n",
       "    }\n",
       "</style>\n",
       "<table border=\"1\" class=\"dataframe\">\n",
       "  <thead>\n",
       "    <tr style=\"text-align: right;\">\n",
       "      <th></th>\n",
       "      <th>soil_type_encoded</th>\n",
       "      <th>N</th>\n",
       "      <th>P</th>\n",
       "      <th>K</th>\n",
       "      <th>pH</th>\n",
       "      <th>Humidity</th>\n",
       "      <th>Temperature</th>\n",
       "      <th>Rainfall</th>\n",
       "    </tr>\n",
       "  </thead>\n",
       "  <tbody>\n",
       "    <tr>\n",
       "      <th>330</th>\n",
       "      <td>2</td>\n",
       "      <td>130</td>\n",
       "      <td>72</td>\n",
       "      <td>180</td>\n",
       "      <td>6.3</td>\n",
       "      <td>75</td>\n",
       "      <td>26</td>\n",
       "      <td>2050</td>\n",
       "    </tr>\n",
       "    <tr>\n",
       "      <th>1558</th>\n",
       "      <td>1</td>\n",
       "      <td>115</td>\n",
       "      <td>70</td>\n",
       "      <td>70</td>\n",
       "      <td>5.7</td>\n",
       "      <td>76</td>\n",
       "      <td>19</td>\n",
       "      <td>2700</td>\n",
       "    </tr>\n",
       "    <tr>\n",
       "      <th>31</th>\n",
       "      <td>0</td>\n",
       "      <td>188</td>\n",
       "      <td>53</td>\n",
       "      <td>158</td>\n",
       "      <td>6.6</td>\n",
       "      <td>72</td>\n",
       "      <td>26</td>\n",
       "      <td>1877</td>\n",
       "    </tr>\n",
       "    <tr>\n",
       "      <th>214</th>\n",
       "      <td>0</td>\n",
       "      <td>191</td>\n",
       "      <td>91</td>\n",
       "      <td>197</td>\n",
       "      <td>7.5</td>\n",
       "      <td>78</td>\n",
       "      <td>20</td>\n",
       "      <td>1698</td>\n",
       "    </tr>\n",
       "    <tr>\n",
       "      <th>1284</th>\n",
       "      <td>0</td>\n",
       "      <td>110</td>\n",
       "      <td>80</td>\n",
       "      <td>120</td>\n",
       "      <td>7.5</td>\n",
       "      <td>76</td>\n",
       "      <td>26</td>\n",
       "      <td>1650</td>\n",
       "    </tr>\n",
       "    <tr>\n",
       "      <th>...</th>\n",
       "      <td>...</td>\n",
       "      <td>...</td>\n",
       "      <td>...</td>\n",
       "      <td>...</td>\n",
       "      <td>...</td>\n",
       "      <td>...</td>\n",
       "      <td>...</td>\n",
       "      <td>...</td>\n",
       "    </tr>\n",
       "    <tr>\n",
       "      <th>1505</th>\n",
       "      <td>0</td>\n",
       "      <td>120</td>\n",
       "      <td>70</td>\n",
       "      <td>140</td>\n",
       "      <td>7.4</td>\n",
       "      <td>79</td>\n",
       "      <td>28</td>\n",
       "      <td>1600</td>\n",
       "    </tr>\n",
       "    <tr>\n",
       "      <th>1549</th>\n",
       "      <td>1</td>\n",
       "      <td>100</td>\n",
       "      <td>125</td>\n",
       "      <td>80</td>\n",
       "      <td>4.9</td>\n",
       "      <td>92</td>\n",
       "      <td>21</td>\n",
       "      <td>2800</td>\n",
       "    </tr>\n",
       "    <tr>\n",
       "      <th>1757</th>\n",
       "      <td>0</td>\n",
       "      <td>170</td>\n",
       "      <td>135</td>\n",
       "      <td>135</td>\n",
       "      <td>6.4</td>\n",
       "      <td>91</td>\n",
       "      <td>29</td>\n",
       "      <td>2370</td>\n",
       "    </tr>\n",
       "    <tr>\n",
       "      <th>1186</th>\n",
       "      <td>1</td>\n",
       "      <td>150</td>\n",
       "      <td>75</td>\n",
       "      <td>130</td>\n",
       "      <td>7.1</td>\n",
       "      <td>78</td>\n",
       "      <td>27</td>\n",
       "      <td>1900</td>\n",
       "    </tr>\n",
       "    <tr>\n",
       "      <th>1545</th>\n",
       "      <td>1</td>\n",
       "      <td>135</td>\n",
       "      <td>105</td>\n",
       "      <td>90</td>\n",
       "      <td>4.6</td>\n",
       "      <td>88</td>\n",
       "      <td>17</td>\n",
       "      <td>2600</td>\n",
       "    </tr>\n",
       "  </tbody>\n",
       "</table>\n",
       "<p>1142 rows × 8 columns</p>\n",
       "</div>"
      ],
      "text/plain": [
       "      soil_type_encoded   N    P    K    pH  Humidity  Temperature   Rainfall \n",
       "330                   2  130   72  180  6.3        75            26       2050\n",
       "1558                  1  115   70   70  5.7        76            19       2700\n",
       "31                    0  188   53  158  6.6        72            26       1877\n",
       "214                   0  191   91  197  7.5        78            20       1698\n",
       "1284                  0  110   80  120  7.5        76            26       1650\n",
       "...                 ...  ...  ...  ...  ...       ...           ...        ...\n",
       "1505                  0  120   70  140  7.4        79            28       1600\n",
       "1549                  1  100  125   80  4.9        92            21       2800\n",
       "1757                  0  170  135  135  6.4        91            29       2370\n",
       "1186                  1  150   75  130  7.1        78            27       1900\n",
       "1545                  1  135  105   90  4.6        88            17       2600\n",
       "\n",
       "[1142 rows x 8 columns]"
      ]
     },
     "execution_count": 25,
     "metadata": {},
     "output_type": "execute_result"
    }
   ],
   "source": [
    "X_train"
   ]
  },
  {
   "cell_type": "code",
   "execution_count": 26,
   "id": "03c770b9",
   "metadata": {},
   "outputs": [
    {
     "name": "stderr",
     "output_type": "stream",
     "text": [
      "c:\\python39\\lib\\site-packages\\sklearn\\linear_model\\_logistic.py:458: ConvergenceWarning: lbfgs failed to converge (status=1):\n",
      "STOP: TOTAL NO. of ITERATIONS REACHED LIMIT.\n",
      "\n",
      "Increase the number of iterations (max_iter) or scale the data as shown in:\n",
      "    https://scikit-learn.org/stable/modules/preprocessing.html\n",
      "Please also refer to the documentation for alternative solver options:\n",
      "    https://scikit-learn.org/stable/modules/linear_model.html#logistic-regression\n",
      "  n_iter_i = _check_optimize_result(\n"
     ]
    },
    {
     "name": "stdout",
     "output_type": "stream",
     "text": [
      "Logistic Regression  with accuracy : 0.3706293706293706\n",
      "Naive Bayes  with accuracy : 0.5979020979020979\n",
      "Support Vector Machine  with accuracy : 0.2867132867132867\n",
      "K-Nearest Neighbors  with accuracy : 0.513986013986014\n",
      "Decision Tree  with accuracy : 0.6258741258741258\n",
      "Random Forest  with accuracy : 0.6678321678321678\n",
      "Bagging  with accuracy : 0.6643356643356644\n",
      "AdaBoost  with accuracy : 0.17132867132867133\n",
      "Gradient Boosting  with accuracy : 0.6643356643356644\n",
      "Extra Trees  with accuracy : 0.548951048951049\n"
     ]
    }
   ],
   "source": [
    "from sklearn.linear_model import LogisticRegression\n",
    "from sklearn.naive_bayes import GaussianNB\n",
    "from sklearn.svm import SVC\n",
    "from sklearn.neighbors import KNeighborsClassifier\n",
    "from sklearn.tree import DecisionTreeClassifier\n",
    "from sklearn.tree import ExtraTreeClassifier\n",
    "from sklearn.ensemble import RandomForestClassifier\n",
    "from sklearn.ensemble import BaggingClassifier\n",
    "from sklearn.ensemble import GradientBoostingClassifier\n",
    "from sklearn.ensemble import AdaBoostClassifier\n",
    "from sklearn.metrics import accuracy_score\n",
    "\n",
    "\n",
    "models = {\n",
    "    'Logistic Regression': LogisticRegression(),\n",
    "    'Naive Bayes': GaussianNB(),\n",
    "    'Support Vector Machine': SVC(),\n",
    "    'K-Nearest Neighbors': KNeighborsClassifier(),\n",
    "    'Decision Tree': DecisionTreeClassifier(),\n",
    "    'Random Forest': RandomForestClassifier(),\n",
    "    'Bagging': BaggingClassifier(),\n",
    "    'AdaBoost': AdaBoostClassifier(),\n",
    "    'Gradient Boosting': GradientBoostingClassifier(),\n",
    "    'Extra Trees': ExtraTreeClassifier(),\n",
    "}\n",
    "\n",
    "\n",
    "for name, md in models.items():\n",
    "    md.fit(X_train,y_train)\n",
    "    ypred = md.predict(X_test)\n",
    "    \n",
    "    print(f\"{name}  with accuracy : {accuracy_score(y_test,ypred)}\")\n",
    "\n",
    "\n"
   ]
  },
  {
   "cell_type": "code",
   "execution_count": 27,
   "id": "36d1764b",
   "metadata": {},
   "outputs": [
    {
     "data": {
      "text/html": [
       "<style>#sk-container-id-1 {color: black;background-color: white;}#sk-container-id-1 pre{padding: 0;}#sk-container-id-1 div.sk-toggleable {background-color: white;}#sk-container-id-1 label.sk-toggleable__label {cursor: pointer;display: block;width: 100%;margin-bottom: 0;padding: 0.3em;box-sizing: border-box;text-align: center;}#sk-container-id-1 label.sk-toggleable__label-arrow:before {content: \"▸\";float: left;margin-right: 0.25em;color: #696969;}#sk-container-id-1 label.sk-toggleable__label-arrow:hover:before {color: black;}#sk-container-id-1 div.sk-estimator:hover label.sk-toggleable__label-arrow:before {color: black;}#sk-container-id-1 div.sk-toggleable__content {max-height: 0;max-width: 0;overflow: hidden;text-align: left;background-color: #f0f8ff;}#sk-container-id-1 div.sk-toggleable__content pre {margin: 0.2em;color: black;border-radius: 0.25em;background-color: #f0f8ff;}#sk-container-id-1 input.sk-toggleable__control:checked~div.sk-toggleable__content {max-height: 200px;max-width: 100%;overflow: auto;}#sk-container-id-1 input.sk-toggleable__control:checked~label.sk-toggleable__label-arrow:before {content: \"▾\";}#sk-container-id-1 div.sk-estimator input.sk-toggleable__control:checked~label.sk-toggleable__label {background-color: #d4ebff;}#sk-container-id-1 div.sk-label input.sk-toggleable__control:checked~label.sk-toggleable__label {background-color: #d4ebff;}#sk-container-id-1 input.sk-hidden--visually {border: 0;clip: rect(1px 1px 1px 1px);clip: rect(1px, 1px, 1px, 1px);height: 1px;margin: -1px;overflow: hidden;padding: 0;position: absolute;width: 1px;}#sk-container-id-1 div.sk-estimator {font-family: monospace;background-color: #f0f8ff;border: 1px dotted black;border-radius: 0.25em;box-sizing: border-box;margin-bottom: 0.5em;}#sk-container-id-1 div.sk-estimator:hover {background-color: #d4ebff;}#sk-container-id-1 div.sk-parallel-item::after {content: \"\";width: 100%;border-bottom: 1px solid gray;flex-grow: 1;}#sk-container-id-1 div.sk-label:hover label.sk-toggleable__label {background-color: #d4ebff;}#sk-container-id-1 div.sk-serial::before {content: \"\";position: absolute;border-left: 1px solid gray;box-sizing: border-box;top: 0;bottom: 0;left: 50%;z-index: 0;}#sk-container-id-1 div.sk-serial {display: flex;flex-direction: column;align-items: center;background-color: white;padding-right: 0.2em;padding-left: 0.2em;position: relative;}#sk-container-id-1 div.sk-item {position: relative;z-index: 1;}#sk-container-id-1 div.sk-parallel {display: flex;align-items: stretch;justify-content: center;background-color: white;position: relative;}#sk-container-id-1 div.sk-item::before, #sk-container-id-1 div.sk-parallel-item::before {content: \"\";position: absolute;border-left: 1px solid gray;box-sizing: border-box;top: 0;bottom: 0;left: 50%;z-index: -1;}#sk-container-id-1 div.sk-parallel-item {display: flex;flex-direction: column;z-index: 1;position: relative;background-color: white;}#sk-container-id-1 div.sk-parallel-item:first-child::after {align-self: flex-end;width: 50%;}#sk-container-id-1 div.sk-parallel-item:last-child::after {align-self: flex-start;width: 50%;}#sk-container-id-1 div.sk-parallel-item:only-child::after {width: 0;}#sk-container-id-1 div.sk-dashed-wrapped {border: 1px dashed gray;margin: 0 0.4em 0.5em 0.4em;box-sizing: border-box;padding-bottom: 0.4em;background-color: white;}#sk-container-id-1 div.sk-label label {font-family: monospace;font-weight: bold;display: inline-block;line-height: 1.2em;}#sk-container-id-1 div.sk-label-container {text-align: center;}#sk-container-id-1 div.sk-container {/* jupyter's `normalize.less` sets `[hidden] { display: none; }` but bootstrap.min.css set `[hidden] { display: none !important; }` so we also need the `!important` here to be able to override the default hidden behavior on the sphinx rendered scikit-learn.org. See: https://github.com/scikit-learn/scikit-learn/issues/21755 */display: inline-block !important;position: relative;}#sk-container-id-1 div.sk-text-repr-fallback {display: none;}</style><div id=\"sk-container-id-1\" class=\"sk-top-container\"><div class=\"sk-text-repr-fallback\"><pre>RandomForestClassifier(random_state=42)</pre><b>In a Jupyter environment, please rerun this cell to show the HTML representation or trust the notebook. <br />On GitHub, the HTML representation is unable to render, please try loading this page with nbviewer.org.</b></div><div class=\"sk-container\" hidden><div class=\"sk-item\"><div class=\"sk-estimator sk-toggleable\"><input class=\"sk-toggleable__control sk-hidden--visually\" id=\"sk-estimator-id-1\" type=\"checkbox\" checked><label for=\"sk-estimator-id-1\" class=\"sk-toggleable__label sk-toggleable__label-arrow\">RandomForestClassifier</label><div class=\"sk-toggleable__content\"><pre>RandomForestClassifier(random_state=42)</pre></div></div></div></div></div>"
      ],
      "text/plain": [
       "RandomForestClassifier(random_state=42)"
      ]
     },
     "execution_count": 27,
     "metadata": {},
     "output_type": "execute_result"
    }
   ],
   "source": [
    "# #training the model\n",
    "# rfc = RandomForestClassifier()\n",
    "# rfc.fit(X_train,y_train)\n",
    "# ypred = rfc.predict(X_test)\n",
    "# accuracy_score(y_test,ypred)\n",
    "\n",
    "# Initialize and train the RandomForestClassifier\n",
    "rfc = RandomForestClassifier(random_state=42)\n",
    "rfc.fit(X_train_scaled, y_train)\n",
    "\n"
   ]
  },
  {
   "cell_type": "code",
   "execution_count": null,
   "id": "fcf8652d",
   "metadata": {},
   "outputs": [],
   "source": [
    "##predictive system"
   ]
  },
  {
   "cell_type": "code",
   "execution_count": null,
   "id": "4fda697b",
   "metadata": {},
   "outputs": [],
   "source": [
    "##function"
   ]
  },
  {
   "cell_type": "code",
   "execution_count": 37,
   "id": "62399b61",
   "metadata": {},
   "outputs": [],
   "source": [
    "# def predict_district(Soil_Type, N, P, K, pH, Humidity, Temperature, Rainfall):\n",
    "#     # Encoding the 'soil_type' using the previously fitted LabelEncoder\n",
    "#     soil_type_encoded = label_encoder_soil.transform([Soil_Type])[0]\n",
    "    \n",
    "#     # Preparing the feature DataFrame with correct order and column names\n",
    "#     # Ensure the column names exactly match those used during the scaler fitting\n",
    "#     features_df = pd.DataFrame([[soil_type_encoded, N, P, K, pH, Humidity, Temperature, Rainfall]],\n",
    "#                                columns=['soil_type_encoded', 'N ', 'P ', 'K ', 'pH', 'Humidity', 'Temperature ', 'Rainfall '])\n",
    "    \n",
    "#     # Scaling the features using the same scaler used for the training data\n",
    "#     features_scaled = scaler.transform(features_df)\n",
    "    \n",
    "#     # Making predictions with the trained model\n",
    "#     district_encoded = model.predict(features_scaled)\n",
    "    \n",
    "#     # Decoding the predicted 'district'\n",
    "#     predicted_district = label_encoder_district.inverse_transform(district_encoded)\n",
    "    \n",
    "#     return predicted_district[0]\n",
    "\n",
    "# # Example prediction:\n",
    "# predicted_district = predict_district('Alluvial', 121, 86, 195, 7.3, 74, 20, 1635)\n",
    "# print(f'The predicted district is: {predicted_district}')\n",
    "\n",
    "\n",
    "\n",
    "\n"
   ]
  },
  {
   "cell_type": "code",
   "execution_count": null,
   "id": "5788ffc3",
   "metadata": {},
   "outputs": [],
   "source": []
  },
  {
   "cell_type": "code",
   "execution_count": 28,
   "id": "0a9c7b14",
   "metadata": {},
   "outputs": [],
   "source": [
    "import pickle\n",
    "\n",
    "# Serialize the RandomForestClassifier model\n",
    "with open('rfc_model.pkl', 'wb') as file:\n",
    "    pickle.dump(rfc, file)\n",
    "\n",
    "# Assuming you have scaler, label_encoder_soil, and label_encoder_district objects\n",
    "with open('scaler.pkl', 'wb') as file:\n",
    "    pickle.dump(scaler, file)\n",
    "\n",
    "with open('label_encoder_soil.pkl', 'wb') as file:\n",
    "    pickle.dump(label_encoder_soil, file)\n",
    "\n",
    "with open('label_encoder_district.pkl', 'wb') as file:\n",
    "    pickle.dump(label_encoder_district, file)\n"
   ]
  },
  {
   "cell_type": "code",
   "execution_count": 29,
   "id": "0eeb0f96",
   "metadata": {},
   "outputs": [],
   "source": [
    "# Deserialize the RandomForestClassifier model\n",
    "with open('rfc_model.pkl', 'rb') as file:\n",
    "    rfc_deserialized = pickle.load(file)\n",
    "\n",
    "# Deserialize the scaler\n",
    "with open('scaler.pkl', 'rb') as file:\n",
    "    scaler_deserialized = pickle.load(file)\n",
    "\n",
    "# Deserialize the soil type label encoder\n",
    "with open('label_encoder_soil.pkl', 'rb') as file:\n",
    "    label_encoder_soil_deserialized = pickle.load(file)\n",
    "\n",
    "# Deserialize the district label encoder\n",
    "with open('label_encoder_district.pkl', 'rb') as file:\n",
    "    label_encoder_district_deserialized = pickle.load(file)\n"
   ]
  },
  {
   "cell_type": "code",
   "execution_count": 30,
   "id": "ee7e9683",
   "metadata": {},
   "outputs": [
    {
     "name": "stdout",
     "output_type": "stream",
     "text": [
      "The predicted district is: Jalpaiguri\n"
     ]
    },
    {
     "name": "stderr",
     "output_type": "stream",
     "text": [
      "c:\\python39\\lib\\site-packages\\sklearn\\preprocessing\\_label.py:155: DataConversionWarning: A column-vector y was passed when a 1d array was expected. Please change the shape of y to (n_samples, ), for example using ravel().\n",
      "  y = column_or_1d(y, warn=True)\n"
     ]
    }
   ],
   "source": [
    "def predict_district(Soil_Type, N, P, K, pH, Humidity, Temperature, Rainfall):\n",
    "    # Encoding the 'Soil_Type' using the previously fitted and deserialized LabelEncoder\n",
    "    soil_type_encoded = label_encoder_soil_deserialized.transform([Soil_Type])[0]\n",
    "    \n",
    "    # Preparing the feature DataFrame with the correct order and column names, including trailing spaces\n",
    "    features_df = pd.DataFrame([[soil_type_encoded, N, P, K, pH, Humidity, Temperature, Rainfall]],\n",
    "                               columns=['soil_type_encoded', 'N ', 'P ', 'K ', 'pH', 'Humidity', 'Temperature ', 'Rainfall '])\n",
    "    \n",
    "    # Scaling the features using the deserialized scaler\n",
    "    features_scaled = scaler_deserialized.transform(features_df)\n",
    "    \n",
    "    # Making predictions with the deserialized RandomForestClassifier model\n",
    "    district_encoded = rfc_deserialized.predict(features_scaled)\n",
    "    \n",
    "    # Decoding the predicted 'district' using the deserialized label encoder\n",
    "    predicted_district = label_encoder_district_deserialized.inverse_transform([district_encoded])[0]\n",
    "    \n",
    "    return predicted_district\n",
    "\n",
    "# Assuming the deserialization of components has been done correctly:\n",
    "predicted_district = predict_district('Alluvial & Red/Yellow', 120, 72, 180, 6, 80, 25, 2200)\n",
    "print(f'The predicted district is: {predicted_district}')\n"
   ]
  },
  {
   "cell_type": "code",
   "execution_count": null,
   "id": "12697cce",
   "metadata": {},
   "outputs": [],
   "source": []
  },
  {
   "cell_type": "code",
   "execution_count": null,
   "id": "0555ccf3",
   "metadata": {},
   "outputs": [],
   "source": []
  }
 ],
 "metadata": {
  "kernelspec": {
   "display_name": "Python 3 (ipykernel)",
   "language": "python",
   "name": "python3"
  },
  "language_info": {
   "codemirror_mode": {
    "name": "ipython",
    "version": 3
   },
   "file_extension": ".py",
   "mimetype": "text/x-python",
   "name": "python",
   "nbconvert_exporter": "python",
   "pygments_lexer": "ipython3",
   "version": "3.9.4"
  }
 },
 "nbformat": 4,
 "nbformat_minor": 5
}
